{
 "cells": [
  {
   "cell_type": "code",
   "execution_count": 52,
   "metadata": {},
   "outputs": [
    {
     "name": "stderr",
     "output_type": "stream",
     "text": [
      "[nltk_data] Downloading package punkt to\n",
      "[nltk_data]     /Users/owenkinsella/nltk_data...\n",
      "[nltk_data]   Package punkt is already up-to-date!\n",
      "[nltk_data] Downloading package stopwords to\n",
      "[nltk_data]     /Users/owenkinsella/nltk_data...\n",
      "[nltk_data]   Unzipping corpora/stopwords.zip.\n"
     ]
    },
    {
     "data": {
      "text/plain": [
       "True"
      ]
     },
     "execution_count": 52,
     "metadata": {},
     "output_type": "execute_result"
    }
   ],
   "source": [
    "import pandas as pd\n",
    "import requests\n",
    "import tweepy\n",
    "from datetime import datetime\n",
    "#NLP libraries \n",
    "import nltk\n",
    "from nltk.tokenize import word_tokenize\n",
    "from nltk.corpus import stopwords\n",
    "from textblob import TextBlob\n",
    "nltk.download('punkt')\n",
    "nltk.download('stopwords')"
   ]
  },
  {
   "cell_type": "code",
   "execution_count": 8,
   "metadata": {},
   "outputs": [],
   "source": [
    "#Check errors in date column formatting\n",
    "def validate(date_text):\n",
    "    errors = []\n",
    "    for i,v in enumerate(date_text):\n",
    "        try:\n",
    "            datetime.strptime(v, '%Y-%m-%d %H:%M:%S')\n",
    "        except ValueError:\n",
    "            errors.append(i)\n",
    "    return errors"
   ]
  },
  {
   "cell_type": "code",
   "execution_count": 50,
   "metadata": {},
   "outputs": [],
   "source": [
    "def clean_df(df,hashtags):\n",
    "    #drop null values and duplicates\n",
    "    df.dropna(axis=0 ,subset=['date','text'],inplace = True)\n",
    "    df.drop_duplicates(inplace = True)\n",
    "    df.reset_index(drop= True,inplace=True)\n",
    "    #convert to most relevant dtypes\n",
    "    df = df.convert_dtypes()\n",
    "    #check number of dates with inconisitent format\n",
    "    errors = validate(df['date'])\n",
    "    #remove dates with inconisitent format\n",
    "    df_clean = df.loc[~df.index.isin(errors)]\n",
    "    df_clean.reset_index(drop=True,inplace=True)\n",
    "    #convert dtype to datetime for dates and shorten to YYYY-MM-DD\n",
    "    df_clean['date'] = pd.to_datetime(df_clean.loc[:,'date'], format='%Y-%m-%d %H:%M:%S').dt.strftime('%Y-%m-%d')\n",
    "    #remove irrelevant hashtags\n",
    "    df_clean['hashtags'] = df_clean['hashtags'].str.lower()\n",
    "    df_clean = df_clean[df_clean['hashtags'].str.contains('|'.join(hashtags)) == False].reset_index(drop = True)\n",
    "    #remove unicode characters\n",
    "    df_clean['text'] = df_clean['text'].str.replace(\"(@\\[A-Za-z0-9]+)|([^0-9A-Za-z \\t])|(\\w+:\\/\\/\\S+)|^rt|http.+?\",\" \")\n",
    "    #tokenise text and remove stopwords\n",
    "    df_clean['text'] = df_clean.apply(lambda row: word_tokenize(row['text']), axis=1)\n",
    "    stop_words = set(stopwords.words('english'))\n",
    "    df_clean['text'] = df_clean.apply(lambda row: (\" \".join([word for word in row['text'] if word not in stop_words])),axis=1)\n",
    "    return df_clean"
   ]
  },
  {
   "cell_type": "code",
   "execution_count": 36,
   "metadata": {},
   "outputs": [
    {
     "name": "stderr",
     "output_type": "stream",
     "text": [
      "/var/folders/zk/_8g_vn511sq_ckc0yy4ngm8m0000gn/T/ipykernel_34476/1353951192.py:2: DtypeWarning: Columns (5,6,7,12) have mixed types. Specify dtype option on import or set low_memory=False.\n",
      "  df_sentiment1 = pd.concat(chunk)\n",
      "/var/folders/zk/_8g_vn511sq_ckc0yy4ngm8m0000gn/T/ipykernel_34476/1353951192.py:2: DtypeWarning: Columns (12) have mixed types. Specify dtype option on import or set low_memory=False.\n",
      "  df_sentiment1 = pd.concat(chunk)\n",
      "/var/folders/zk/_8g_vn511sq_ckc0yy4ngm8m0000gn/T/ipykernel_34476/1353951192.py:2: DtypeWarning: Columns (12) have mixed types. Specify dtype option on import or set low_memory=False.\n",
      "  df_sentiment1 = pd.concat(chunk)\n",
      "/var/folders/zk/_8g_vn511sq_ckc0yy4ngm8m0000gn/T/ipykernel_34476/1353951192.py:2: DtypeWarning: Columns (12) have mixed types. Specify dtype option on import or set low_memory=False.\n",
      "  df_sentiment1 = pd.concat(chunk)\n",
      "/var/folders/zk/_8g_vn511sq_ckc0yy4ngm8m0000gn/T/ipykernel_34476/1353951192.py:2: DtypeWarning: Columns (5,6,7) have mixed types. Specify dtype option on import or set low_memory=False.\n",
      "  df_sentiment1 = pd.concat(chunk)\n",
      "/var/folders/zk/_8g_vn511sq_ckc0yy4ngm8m0000gn/T/ipykernel_34476/1353951192.py:2: DtypeWarning: Columns (12) have mixed types. Specify dtype option on import or set low_memory=False.\n",
      "  df_sentiment1 = pd.concat(chunk)\n",
      "/var/folders/zk/_8g_vn511sq_ckc0yy4ngm8m0000gn/T/ipykernel_34476/1353951192.py:2: DtypeWarning: Columns (5,6,7) have mixed types. Specify dtype option on import or set low_memory=False.\n",
      "  df_sentiment1 = pd.concat(chunk)\n",
      "/var/folders/zk/_8g_vn511sq_ckc0yy4ngm8m0000gn/T/ipykernel_34476/1353951192.py:2: DtypeWarning: Columns (12) have mixed types. Specify dtype option on import or set low_memory=False.\n",
      "  df_sentiment1 = pd.concat(chunk)\n",
      "/var/folders/zk/_8g_vn511sq_ckc0yy4ngm8m0000gn/T/ipykernel_34476/1353951192.py:2: DtypeWarning: Columns (5,6,7) have mixed types. Specify dtype option on import or set low_memory=False.\n",
      "  df_sentiment1 = pd.concat(chunk)\n",
      "/var/folders/zk/_8g_vn511sq_ckc0yy4ngm8m0000gn/T/ipykernel_34476/1353951192.py:2: DtypeWarning: Columns (5,6,7) have mixed types. Specify dtype option on import or set low_memory=False.\n",
      "  df_sentiment1 = pd.concat(chunk)\n",
      "/var/folders/zk/_8g_vn511sq_ckc0yy4ngm8m0000gn/T/ipykernel_34476/1353951192.py:2: DtypeWarning: Columns (5,6,7,12) have mixed types. Specify dtype option on import or set low_memory=False.\n",
      "  df_sentiment1 = pd.concat(chunk)\n",
      "/var/folders/zk/_8g_vn511sq_ckc0yy4ngm8m0000gn/T/ipykernel_34476/1353951192.py:2: DtypeWarning: Columns (12) have mixed types. Specify dtype option on import or set low_memory=False.\n",
      "  df_sentiment1 = pd.concat(chunk)\n",
      "/var/folders/zk/_8g_vn511sq_ckc0yy4ngm8m0000gn/T/ipykernel_34476/1353951192.py:2: DtypeWarning: Columns (12) have mixed types. Specify dtype option on import or set low_memory=False.\n",
      "  df_sentiment1 = pd.concat(chunk)\n",
      "/var/folders/zk/_8g_vn511sq_ckc0yy4ngm8m0000gn/T/ipykernel_34476/1353951192.py:2: DtypeWarning: Columns (5,6,7) have mixed types. Specify dtype option on import or set low_memory=False.\n",
      "  df_sentiment1 = pd.concat(chunk)\n",
      "/var/folders/zk/_8g_vn511sq_ckc0yy4ngm8m0000gn/T/ipykernel_34476/1353951192.py:2: DtypeWarning: Columns (5,6,7) have mixed types. Specify dtype option on import or set low_memory=False.\n",
      "  df_sentiment1 = pd.concat(chunk)\n",
      "/var/folders/zk/_8g_vn511sq_ckc0yy4ngm8m0000gn/T/ipykernel_34476/1353951192.py:2: DtypeWarning: Columns (4,6) have mixed types. Specify dtype option on import or set low_memory=False.\n",
      "  df_sentiment1 = pd.concat(chunk)\n",
      "/var/folders/zk/_8g_vn511sq_ckc0yy4ngm8m0000gn/T/ipykernel_34476/1353951192.py:2: DtypeWarning: Columns (12) have mixed types. Specify dtype option on import or set low_memory=False.\n",
      "  df_sentiment1 = pd.concat(chunk)\n",
      "/var/folders/zk/_8g_vn511sq_ckc0yy4ngm8m0000gn/T/ipykernel_34476/1353951192.py:2: DtypeWarning: Columns (12) have mixed types. Specify dtype option on import or set low_memory=False.\n",
      "  df_sentiment1 = pd.concat(chunk)\n",
      "/var/folders/zk/_8g_vn511sq_ckc0yy4ngm8m0000gn/T/ipykernel_34476/1353951192.py:2: DtypeWarning: Columns (12) have mixed types. Specify dtype option on import or set low_memory=False.\n",
      "  df_sentiment1 = pd.concat(chunk)\n",
      "/var/folders/zk/_8g_vn511sq_ckc0yy4ngm8m0000gn/T/ipykernel_34476/1353951192.py:2: DtypeWarning: Columns (12) have mixed types. Specify dtype option on import or set low_memory=False.\n",
      "  df_sentiment1 = pd.concat(chunk)\n",
      "/var/folders/zk/_8g_vn511sq_ckc0yy4ngm8m0000gn/T/ipykernel_34476/1353951192.py:2: DtypeWarning: Columns (5,6,7,12) have mixed types. Specify dtype option on import or set low_memory=False.\n",
      "  df_sentiment1 = pd.concat(chunk)\n",
      "/var/folders/zk/_8g_vn511sq_ckc0yy4ngm8m0000gn/T/ipykernel_34476/1353951192.py:2: DtypeWarning: Columns (5,6,7,12) have mixed types. Specify dtype option on import or set low_memory=False.\n",
      "  df_sentiment1 = pd.concat(chunk)\n",
      "/var/folders/zk/_8g_vn511sq_ckc0yy4ngm8m0000gn/T/ipykernel_34476/1353951192.py:2: DtypeWarning: Columns (6,7) have mixed types. Specify dtype option on import or set low_memory=False.\n",
      "  df_sentiment1 = pd.concat(chunk)\n",
      "/var/folders/zk/_8g_vn511sq_ckc0yy4ngm8m0000gn/T/ipykernel_34476/1353951192.py:2: DtypeWarning: Columns (5) have mixed types. Specify dtype option on import or set low_memory=False.\n",
      "  df_sentiment1 = pd.concat(chunk)\n"
     ]
    }
   ],
   "source": [
    "chunk = pd.read_csv('Bitcoin_tweets.csv',chunksize=100000,lineterminator='\\n')\n",
    "df_sentiment2 = pd.read_csv('Bitcoin_tweets_dataset_2.csv',lineterminator='\\n')"
   ]
  },
  {
   "cell_type": "code",
   "execution_count": 54,
   "metadata": {},
   "outputs": [
    {
     "name": "stderr",
     "output_type": "stream",
     "text": [
      "/var/folders/zk/_8g_vn511sq_ckc0yy4ngm8m0000gn/T/ipykernel_34476/178301672.py:14: SettingWithCopyWarning: \n",
      "A value is trying to be set on a copy of a slice from a DataFrame.\n",
      "Try using .loc[row_indexer,col_indexer] = value instead\n",
      "\n",
      "See the caveats in the documentation: https://pandas.pydata.org/pandas-docs/stable/user_guide/indexing.html#returning-a-view-versus-a-copy\n",
      "  df_clean['date'] = pd.to_datetime(df_clean.loc[:,'date'], format='%Y-%m-%d %H:%M:%S').dt.strftime('%Y-%m-%d')\n",
      "/var/folders/zk/_8g_vn511sq_ckc0yy4ngm8m0000gn/T/ipykernel_34476/178301672.py:16: SettingWithCopyWarning: \n",
      "A value is trying to be set on a copy of a slice from a DataFrame.\n",
      "Try using .loc[row_indexer,col_indexer] = value instead\n",
      "\n",
      "See the caveats in the documentation: https://pandas.pydata.org/pandas-docs/stable/user_guide/indexing.html#returning-a-view-versus-a-copy\n",
      "  df_clean['hashtags'] = df_clean['hashtags'].str.lower()\n",
      "/var/folders/zk/_8g_vn511sq_ckc0yy4ngm8m0000gn/T/ipykernel_34476/178301672.py:19: FutureWarning: The default value of regex will change from True to False in a future version.\n",
      "  df_clean['text'] = df_clean['text'].str.replace(\"(@\\[A-Za-z0-9]+)|([^0-9A-Za-z \\t])|(\\w+:\\/\\/\\S+)|^rt|http.+?\",\" \")\n"
     ]
    }
   ],
   "source": [
    "hashtags = ['nft','giveaway','cashback','airdrop']\n",
    "df_clean = clean_df(df_sentiment1,hashtags)"
   ]
  },
  {
   "cell_type": "code",
   "execution_count": 55,
   "metadata": {},
   "outputs": [],
   "source": [
    "df_clean.to_csv('Bitcoin_tweets_clean.csv',chunksize=100000,lineterminator='\\n')"
   ]
  },
  {
   "cell_type": "code",
   "execution_count": 56,
   "metadata": {},
   "outputs": [
    {
     "data": {
      "text/plain": [
       "DatetimeIndex(['2021-02-05', '2021-02-06', '2021-02-07', '2021-02-08',\n",
       "               '2021-02-09', '2021-02-10', '2021-02-11', '2021-02-12',\n",
       "               '2021-02-13', '2021-02-14',\n",
       "               ...\n",
       "               '2022-12-31', '2023-01-01', '2023-01-02', '2023-01-03',\n",
       "               '2023-01-04', '2023-01-05', '2023-01-06', '2023-01-07',\n",
       "               '2023-01-08', '2023-01-09'],\n",
       "              dtype='datetime64[ns]', length=704, freq='D')"
      ]
     },
     "execution_count": 56,
     "metadata": {},
     "output_type": "execute_result"
    }
   ],
   "source": [
    "pd.date_range(start=df_clean['date'].min(),end=df_clean['date'].max(),freq='D')"
   ]
  },
  {
   "cell_type": "code",
   "execution_count": null,
   "metadata": {},
   "outputs": [],
   "source": []
  }
 ],
 "metadata": {
  "kernelspec": {
   "display_name": ".venv",
   "language": "python",
   "name": "python3"
  },
  "language_info": {
   "codemirror_mode": {
    "name": "ipython",
    "version": 3
   },
   "file_extension": ".py",
   "mimetype": "text/x-python",
   "name": "python",
   "nbconvert_exporter": "python",
   "pygments_lexer": "ipython3",
   "version": "3.11.2"
  },
  "orig_nbformat": 4
 },
 "nbformat": 4,
 "nbformat_minor": 2
}
